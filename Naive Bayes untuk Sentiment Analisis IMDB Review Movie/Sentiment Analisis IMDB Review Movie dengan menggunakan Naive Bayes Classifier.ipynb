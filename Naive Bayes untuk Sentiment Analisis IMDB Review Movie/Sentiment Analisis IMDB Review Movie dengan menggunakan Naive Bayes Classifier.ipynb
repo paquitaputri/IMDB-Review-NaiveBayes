{
 "cells": [
  {
   "cell_type": "code",
   "execution_count": 1,
   "metadata": {},
   "outputs": [],
   "source": [
    "#import library pandas\n",
    "import pandas as pd\n",
    "import numpy as np\n",
    "from collections import defaultdict\n",
    "import re"
   ]
  },
  {
   "cell_type": "code",
   "execution_count": 2,
   "metadata": {},
   "outputs": [],
   "source": [
    "#membaca file csv dengan library pandas\n",
    "data_positif = pd.read_csv('data training positif.csv')\n",
    "data_negatif = pd.read_csv('data training negatif.csv')"
   ]
  },
  {
   "cell_type": "markdown",
   "metadata": {},
   "source": [
    "0 = sentiment negatif\n",
    "1 = sentiment positif"
   ]
  },
  {
   "cell_type": "code",
   "execution_count": 3,
   "metadata": {},
   "outputs": [
    {
     "data": {
      "text/plain": [
       "1    6000\n",
       "0    6000\n",
       "Name: class, dtype: int64"
      ]
     },
     "execution_count": 3,
     "metadata": {},
     "output_type": "execute_result"
    }
   ],
   "source": [
    "#meng concate data positif dan negatif kedalam satu variable\n",
    "data = [data_positif,data_negatif]\n",
    "data_training = pd.concat(data)\n",
    "data_training.shape\n",
    "data_training['class'].value_counts()"
   ]
  },
  {
   "cell_type": "code",
   "execution_count": 4,
   "metadata": {},
   "outputs": [],
   "source": [
    "import matplotlib.pyplot as plt\n",
    "%matplotlib inline"
   ]
  },
  {
   "cell_type": "code",
   "execution_count": 5,
   "metadata": {
    "scrolled": true
   },
   "outputs": [
    {
     "data": {
      "text/plain": [
       "<matplotlib.axes._subplots.AxesSubplot at 0x237424de388>"
      ]
     },
     "execution_count": 5,
     "metadata": {},
     "output_type": "execute_result"
    },
    {
     "data": {
      "image/png": "[encoded data removed]",
      "text/plain": [
       "<Figure size 432x288 with 1 Axes>"
      ]
     },
     "metadata": {
      "needs_background": "light"
     },
     "output_type": "display_data"
    }
   ],
   "source": [
    "import seaborn as sns\n",
    "sns.countplot(x='class', data=data_training)"
   ]
  },
  {
   "cell_type": "code",
   "execution_count": 6,
   "metadata": {},
   "outputs": [
    {
     "data": {
      "text/plain": [
       "0       Bromwell High is a cartoon comedy. It ran at t...\n",
       "1       I liked the film. Some of the action scenes we...\n",
       "2       Somewhat funny and well-paced action thriller ...\n",
       "3       Just two comments....SEVEN years apart? Hardly...\n",
       "4       Another Aussie masterpiece, this delves into t...\n",
       "                              ...                        \n",
       "5995    Having just recently re-viewed \"Lipstick\" for ...\n",
       "5996    It's pretty bad when the generic movie synopsi...\n",
       "5997    I saw 'Descent' last night at the Stockholm Fi...\n",
       "5998    Some films that you pick up for a pound turn o...\n",
       "5999    This is one of the dumbest films, I've ever se...\n",
       "Name: Text, Length: 12000, dtype: object"
      ]
     },
     "execution_count": 6,
     "metadata": {},
     "output_type": "execute_result"
    }
   ],
   "source": [
    "data_training['Text']"
   ]
  },
  {
   "cell_type": "code",
   "execution_count": 7,
   "metadata": {},
   "outputs": [],
   "source": [
    "#mengsplit / memisahkan menjadi per kata\n",
    "data_training['Text'] = data_training['Text'].apply(lambda x: x.split())"
   ]
  },
  {
   "cell_type": "code",
   "execution_count": 8,
   "metadata": {
    "scrolled": true
   },
   "outputs": [],
   "source": [
    "#menggunakan stopword untuk menghilangkan kata-kata yang tidak berpengaruh\n",
    "stop_list = ['his', 'didn', 'than', 'y', 'both', 'weren', 'from', 'again', 'have', 'having', 'her', 'are', \"isn't\", 'off', 'where', 'then', 'what', 'most', 'couldn', \"wasn't\", 'these', 'own', \"wouldn't\", 'was', 'can', 'a', 'above', 'if', 'haven', 'any', 'm', 'between', 'by', 'our', 'there', 'only', 'wasn', 'same', 'how', \"it's\", 'after', 'theirs', 'no', 'not', \"hadn't\", 'more', 'ain', 'few', 'been', 'did', \"won't\", \"should've\", \"mustn't\", 'just', \"don't\", 'into', \"hasn't\", 'themselves', 'who', 'you', 'when', 'up', 'yourselves', 'for', 'out', 'doesn', 'against', 'and', 'with', \"you've\", 'him', 'is', 'needn', 'we', 'under', 'll', 'down', 'mustn', 't', 'ma', 'why', 'yours', 'it', 'but', \"that'll\", \"she's\", 'each', 'now', 'i', \"needn't\", 'had', 'this', 'hadn', 'in', \"you'll\", 'during', 'its', 'the', 'through', 'to', \"you're\", 'do', 'too', 'd', 'aren', 'while', \"shan't\", 'all', 'of', 'being', 'very', 'at', 'because', 'will', \"mightn't\", 'those', 'doing', 'herself', 'should', 're', 'which', 'am', 'me', 'isn', 'wouldn', 'itself', 'before', 'as', 'does', \"aren't\", 'whom', 'here', 'shan', 'once', 'about', 'on', \"haven't\", 'yourself', 'an', 'don', 'he', 'o', 'she', 'further', 'their', 'ours', 'ourselves', 'be', 'below', 'myself', 'were', 'over', 'hasn', 'until', 'my', 'mightn', 'so', 'other', 've', 'that', \"couldn't\", \"weren't\", 'or', \"didn't\", 'nor', 'won', 'has', 's', 'shouldn', 'himself', 'hers', \"shouldn't\", 'they', 'them', \"you'd\", 'your', 'some', \"doesn't\", 'such']\n",
    "data_training['Text'] = data_training['Text'].apply(lambda x: [item for item in x if item not in stop_list])"
   ]
  },
  {
   "cell_type": "code",
   "execution_count": 9,
   "metadata": {},
   "outputs": [
    {
     "data": {
      "text/plain": [
       "0       [Bromwell, High, cartoon, comedy., It, ran, ti...\n",
       "1       [I, liked, film., Some, action, scenes, intere...\n",
       "2       [Somewhat, funny, well-paced, action, thriller...\n",
       "3       [Just, two, comments....SEVEN, years, apart?, ...\n",
       "4       [Another, Aussie, masterpiece,, delves, world,...\n",
       "                              ...                        \n",
       "5995    [Having, recently, re-viewed, \"Lipstick\", firs...\n",
       "5996    [It's, pretty, bad, generic, movie, synopsis, ...\n",
       "5997    [I, saw, 'Descent', last, night, Stockholm, Fi...\n",
       "5998    [Some, films, pick, pound, turn, rather, good,...\n",
       "5999    [This, one, dumbest, films,, I've, ever, seen....\n",
       "Name: Text, Length: 12000, dtype: object"
      ]
     },
     "execution_count": 9,
     "metadata": {},
     "output_type": "execute_result"
    }
   ],
   "source": [
    "data_training['Text']"
   ]
  },
  {
   "cell_type": "code",
   "execution_count": 10,
   "metadata": {},
   "outputs": [],
   "source": [
    "#Kata yang sudah di pisahkan digabungkan kembali menjadi satu kesatuan\n",
    "data_training['Text'] = data_training['Text'].apply(lambda x: \",\".join(x))"
   ]
  },
  {
   "cell_type": "markdown",
   "metadata": {},
   "source": [
    "Kami akan membagi seluruh set data menjadi empat variabel; Train_X(atribut), Test_X(atribut), Train_Y(class), Test_Y(class), dengan rasio 7: 3 (train: test)."
   ]
  },
  {
   "cell_type": "code",
   "execution_count": 11,
   "metadata": {},
   "outputs": [
    {
     "name": "stdout",
     "output_type": "stream",
     "text": [
      "Jumlah data train :  8400\n",
      "Jumlah class train :  8400\n",
      "Jumlah data test :  3600\n",
      "Jumlah class test :  3600\n"
     ]
    }
   ],
   "source": [
    "from sklearn.model_selection import train_test_split\n",
    "labels = data_training['class']\n",
    "text = data_training['Text']\n",
    "Train_X, Test_X, Train_Y, Test_Y = train_test_split(text,labels,test_size=0.3,random_state=None)\n",
    "\n",
    "print(\"Jumlah data train : \", len(Train_X))\n",
    "print(\"Jumlah class train : \", len(Train_Y))\n",
    "print(\"Jumlah data test : \", len(Test_X))\n",
    "print(\"Jumlah class test : \", len(Test_Y))"
   ]
  },
  {
   "cell_type": "code",
   "execution_count": 12,
   "metadata": {},
   "outputs": [],
   "source": [
    "def preprocessing_text(text):\n",
    "    \n",
    "    #untuk menghilangkan angka, karakter dan hanya menyisakan huruf saja\n",
    "    text_bersih=re.sub('[^a-z\\s]+',' ',text,flags=re.IGNORECASE) \n",
    "    #untuk menghilangkan simbol break <br>\n",
    "    text_bersih=re.sub(\"(<br\\s*/><br\\s*/>)|(\\-)|(\\/)\",\" \",text_bersih)\n",
    "    #menghilangkan multiple space\n",
    "    text_bersih=re.sub('(\\s+)',' ',text_bersih)\n",
    "    #meng konvert semua kata menjadi lower case\n",
    "    text_bersih=text_bersih.lower()\n",
    "    \n",
    "    return text_bersih"
   ]
  },
  {
   "cell_type": "markdown",
   "metadata": {},
   "source": [
    "# Rumus Naive Bayes"
   ]
  },
  {
   "cell_type": "markdown",
   "metadata": {},
   "source": [
    "![title](naive-bayes-formula-1-1.jpg)"
   ]
  },
  {
   "cell_type": "markdown",
   "metadata": {},
   "source": [
    "x : Data dengan class yang belum diketahui\n",
    "c : Hipotesis data merupakan suatu class spesifik\n",
    "P(c|x) : Probabilitas hipotesis berdasar kondisi (posteriori probability)\n",
    "P(c) : Probabilitas hipotesis (prior probability)\n",
    "P(x|c) : Probabilitas berdasarkan kondisi pada hipotesis\n",
    "P(x) : Probabilitas c"
   ]
  },
  {
   "cell_type": "markdown",
   "metadata": {},
   "source": [
    "Penggunaan Naive Bayes Pada Text Sentiment Analysis\n",
    "![title](hemeh.png)"
   ]
  },
  {
   "cell_type": "code",
   "execution_count": 13,
   "metadata": {},
   "outputs": [],
   "source": [
    "class NaiveBayes:\n",
    "    \n",
    "    def __init__(self,unique_classes):\n",
    "        \n",
    "        self.classes=unique_classes #menyimpang unique class        \n",
    "\n",
    "    def BagOfWord(self,kata,index): #bertujuan untuk melakukan tokenized dan juga bag of word\n",
    "        \n",
    "        if isinstance(kata,np.ndarray): \n",
    "            kata=kata[0]\n",
    "     \n",
    "        for token_kata in kata.split(): #split seluruh kata\n",
    "          \n",
    "            self.bow_dicts[index][token_kata]+=1 #tambah satu ketika setiap kata yang sama pada dictionary\n",
    "            \n",
    "    def training_text(self,data_text,label_class): #untuk training dan juga melakukan processing model Naive Bayes\n",
    "    \n",
    "        self.examples=data_text #inisiasi untuk data text\n",
    "        self.labels=label_class #inisiasi untuk class\n",
    "        self.bow_dicts=np.array([defaultdict(lambda:0) for index in range(self.classes.shape[0])]) #membuat array sesuai dengan jumlah kelas\n",
    "        \n",
    "        #mengambil data bertipe data numpy arrays\n",
    "        \n",
    "        if not isinstance(self.examples,np.ndarray): \n",
    "            self.examples=np.array(self.examples)\n",
    "        if not isinstance(self.labels,np.ndarray): \n",
    "            self.labels=np.array(self.labels)\n",
    "            \n",
    "        #melakukan bag of word untuk setiap kelasnya\n",
    "        for index_kelas,kelas in enumerate(self.classes):\n",
    "          \n",
    "            text_kelas=self.examples[self.labels==kelas] #membagikan dokumen sesuai dengan kelas           \n",
    "           \n",
    "            #melakukan prepocessing data train\n",
    "            text_clean=[preprocessing_text(text) for text in text_kelas]\n",
    "            text_clean=pd.DataFrame(data=text_clean)\n",
    "            #melakukan bag of word untuk data train sesuai dengan kelasnya\n",
    "            np.apply_along_axis(self.BagOfWord,1,text_clean,index_kelas)\n",
    "            \n",
    "                \n",
    "\n",
    "        probab_kelas=np.zeros(self.classes.shape[0]) #membuat wadah untuk menyimpan hasil probabilitas untuk setiap kelasnya\n",
    "        seluruh_kata=[] #membuat list yang nanti akan diisikan kata kata sesuai dengan kelasnya\n",
    "        jumlah_kata=np.zeros(self.classes.shape[0]) #membuat array untuk menyimpan hasil perhitungan total kata tiap kelas\n",
    "        for index_kelas,kelas in enumerate(self.classes):\n",
    "           \n",
    "            #melakukan perhitungan untuk nilai prior probability p(c) untuk setiap kelasnya\n",
    "            probab_kelas[index_kelas]=np.sum(self.labels==kelas)/float(self.labels.shape[0]) \n",
    "            \n",
    "            #untuk menghitung semua kata pada setiap kelasnya\n",
    "            count=list(self.bow_dicts[index_kelas].values())\n",
    "            jumlah_kata[index_kelas]=np.sum(np.array(count))+1 # |v| is remaining to be added\n",
    "            \n",
    "            #menggabungkan semua kata dari setiap kelas                          \n",
    "            seluruh_kata+=self.bow_dicts[index_kelas].keys()\n",
    "                                                     \n",
    "    \n",
    "        #membuat sebuah vocabulary berisikan kata kata unique dari setiap kelasnya.\n",
    "        self.vocab=np.unique(np.array(seluruh_kata))\n",
    "        self.vocab_length=self.vocab.shape[0]\n",
    "                                  \n",
    "        #untuk mencari nilai pembagi dari rumus naive bayes                           \n",
    "        pembagi=np.array([jumlah_kata[index_kelas]+self.vocab_length+1 for kelas_index,kelas in enumerate(self.classes)])                                                                          \n",
    "        self.kelas_info=[(self.bow_dicts[kelas_index],probab_kelas[kelas_index],pembagi[kelas_index]) for kelas_index,kelas in enumerate(self.classes)]                               \n",
    "        self.kelas_info=np.array(self.kelas_info)                                 \n",
    "                                              \n",
    "                                              \n",
    "    def ProbabilitasDataTesting(self,data_test):                                                 \n",
    "                                              \n",
    "        likelihood_prob=np.zeros(self.classes.shape[0]) #membuat sebuah tempat untuk menyimpan nilai likelihood\n",
    "        \n",
    "        #mencari nilai probabilitas untuk setiap data test \n",
    "        for kelas_index,kelas in enumerate(self.classes): \n",
    "                             \n",
    "            for test_text in data_test.split(): #di split tiap kata di data test nya                          \n",
    "                \n",
    "                #menghitung jumlah kata pada data testing                          \n",
    "                test_token_counts=self.kelas_info[kelas_index][0].get(test_text,0)+1\n",
    "                \n",
    "                #menghitung nilai likelihood untuk data testing                              \n",
    "                test_token_prob=test_token_counts/float(self.kelas_info[kelas_index][2])                              \n",
    "                likelihood_prob[kelas_index]+=np.log(test_token_prob)\n",
    "                                              \n",
    "        # mencari nilai posterior probility\n",
    "        post_prob=np.empty(self.classes.shape[0])\n",
    "        for kelas_index,kelas in enumerate(self.classes):\n",
    "            post_prob[kelas_index]=likelihood_prob[kelas_index]+np.log(self.kelas_info[kelas_index][1])                                  \n",
    "      \n",
    "        return post_prob\n",
    "    \n",
    "   \n",
    "    def test(self,data_testing):\n",
    "      \n",
    "        hasil_prediksi=[] #menyimpan untuk hasil prediksi pada setiap data testing\n",
    "        for text in data_testing: \n",
    "                                              \n",
    "            #melakukan prepocessing pada data testing                                 \n",
    "            text_clean=preprocessing_text(text) \n",
    "             \n",
    "            #untuk mendapatkan nilai posterior probability pada setiap data testing untuk setiap kelasnya                               \n",
    "            post_prob=self.ProbabilitasDataTesting(text_clean)\n",
    "            \n",
    "            #lalu cari nilai maximum dari nilai posterior probability dari setiap kelasnya\n",
    "            hasil_prediksi.append(self.classes[np.argmax(post_prob)])\n",
    "                \n",
    "        return np.array(hasil_prediksi) "
   ]
  },
  {
   "cell_type": "code",
   "execution_count": 14,
   "metadata": {},
   "outputs": [],
   "source": [
    "nb=NaiveBayes(np.unique(Train_Y)) #melakukan proses unique pada label train\n",
    "nb.training_text(Train_X,Train_Y) #melakukan proses training pada data training"
   ]
  },
  {
   "cell_type": "code",
   "execution_count": 19,
   "metadata": {},
   "outputs": [
    {
     "name": "stdout",
     "output_type": "stream",
     "text": [
      "Nilai akurasi data Test: 86.194444 %\n"
     ]
    }
   ],
   "source": [
    "#untuk menghasilkan nilai prediksi dari data test\n",
    "pclasses=nb.test(Test_X)\n",
    "nilai_akurasi=(np.sum(pclasses==Test_Y)/float(Test_Y.shape[0]) * 100)\n",
    "print (\"Nilai akurasi data Test: {:2f} %\".format(nilai_akurasi))"
   ]
  },
  {
   "cell_type": "code",
   "execution_count": null,
   "metadata": {},
   "outputs": [],
   "source": []
  }
 ],
 "metadata": {
  "kernelspec": {
   "display_name": "Python 3",
   "language": "python",
   "name": "python3"
  },
  "language_info": {
   "codemirror_mode": {
    "name": "ipython",
    "version": 3
   },
   "file_extension": ".py",
   "mimetype": "text/x-python",
   "name": "python",
   "nbconvert_exporter": "python",
   "pygments_lexer": "ipython3",
   "version": "3.7.6"
  }
 },
 "nbformat": 4,
 "nbformat_minor": 2
}
